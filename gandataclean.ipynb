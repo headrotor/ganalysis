{
 "cells": [
  {
   "cell_type": "code",
   "execution_count": 1,
   "metadata": {},
   "outputs": [],
   "source": [
    "import numpy as np\n",
    "import matplotlib as mpl\n",
    "import pandas as pd\n",
    "import gc\n",
    "import pickle\n",
    "import matplotlib.pyplot as plt\n",
    "from __future__ import print_function\n",
    "mpl.rcParams['figure.figsize'] = (18, 6)\n",
    "\n",
    "#import numpy as np\n"
   ]
  },
  {
   "cell_type": "code",
   "execution_count": 2,
   "metadata": {},
   "outputs": [
    {
     "name": "stdout",
     "output_type": "stream",
     "text": [
      "CPU times: user 57.3 s, sys: 2.6 s, total: 59.9 s\n",
      "Wall time: 1min 5s\n"
     ]
    }
   ],
   "source": [
    "%%time\n",
    "\n",
    "# get image at https://ganbreeder.app/i?k=ae23dc7e63526323dde46200  where key is index\n",
    "# direct from aws https://s3.amazonaws.com/ganbreederpublic/imgs/ae23dc7e63526323dde46200.jpeg\n",
    "\n",
    "#gb = pd.read_table('C:/foote/bitb/ganbreeder/export_images.txt',  header=0, skiprows=23, sep='\\t')\n",
    "gp = pd.read_table('/home/jtf/gith/ganalysis/unclean/export_images.txt',  header=0, skiprows=23, sep='\\t')"
   ]
  },
  {
   "cell_type": "code",
   "execution_count": 4,
   "metadata": {},
   "outputs": [
    {
     "data": {
      "text/html": [
       "<div>\n",
       "<style scoped>\n",
       "    .dataframe tbody tr th:only-of-type {\n",
       "        vertical-align: middle;\n",
       "    }\n",
       "\n",
       "    .dataframe tbody tr th {\n",
       "        vertical-align: top;\n",
       "    }\n",
       "\n",
       "    .dataframe thead th {\n",
       "        text-align: right;\n",
       "    }\n",
       "</style>\n",
       "<table border=\"1\" class=\"dataframe\">\n",
       "  <thead>\n",
       "    <tr style=\"text-align: right;\">\n",
       "      <th></th>\n",
       "      <th>id</th>\n",
       "      <th>key</th>\n",
       "      <th>parent1</th>\n",
       "      <th>parent2</th>\n",
       "      <th>creator</th>\n",
       "      <th>creation_type</th>\n",
       "      <th>liked</th>\n",
       "      <th>vector</th>\n",
       "      <th>label</th>\n",
       "      <th>truncation</th>\n",
       "    </tr>\n",
       "  </thead>\n",
       "  <tbody>\n",
       "    <tr>\n",
       "      <th>0</th>\n",
       "      <td>18531515</td>\n",
       "      <td>25c9a965c3e6222b1527ec31</td>\n",
       "      <td>18531402</td>\n",
       "      <td>\\N</td>\n",
       "      <td>1590</td>\n",
       "      <td>\\N</td>\n",
       "      <td>0</td>\n",
       "      <td>{0.218553458327344963,-0.100470823187122485,-0...</td>\n",
       "      <td>{0,0,0,0,0,0,0,0,0,0,0,0,0,0,0,0,0,0,0,0,0,0,0...</td>\n",
       "      <td>0.520163</td>\n",
       "    </tr>\n",
       "    <tr>\n",
       "      <th>1</th>\n",
       "      <td>18531516</td>\n",
       "      <td>50904a236e98d71036e9dabc</td>\n",
       "      <td>18531402</td>\n",
       "      <td>\\N</td>\n",
       "      <td>1590</td>\n",
       "      <td>\\N</td>\n",
       "      <td>0</td>\n",
       "      <td>{0.0497139209960815801,0.231948704304708236,0....</td>\n",
       "      <td>{0,0,0,0,0,0,0,0,0,0,0,0,0,0,0,0,0,0,0,0,0,0,0...</td>\n",
       "      <td>0.604127</td>\n",
       "    </tr>\n",
       "    <tr>\n",
       "      <th>2</th>\n",
       "      <td>18531517</td>\n",
       "      <td>da3f4d654c3620392e37f847</td>\n",
       "      <td>18531402</td>\n",
       "      <td>\\N</td>\n",
       "      <td>1590</td>\n",
       "      <td>\\N</td>\n",
       "      <td>0</td>\n",
       "      <td>{0.193376900964014775,0.267763811403666674,0.2...</td>\n",
       "      <td>{0,0,0,0,0,0,0,0,0,0,0,0,0,0,0,0,0,0,0,0,0,0,0...</td>\n",
       "      <td>0.441678</td>\n",
       "    </tr>\n",
       "    <tr>\n",
       "      <th>3</th>\n",
       "      <td>18531518</td>\n",
       "      <td>e219b09da129157d62e1a331</td>\n",
       "      <td>18531402</td>\n",
       "      <td>\\N</td>\n",
       "      <td>1590</td>\n",
       "      <td>\\N</td>\n",
       "      <td>0</td>\n",
       "      <td>{0.0660950443520152281,0.51828771328422607,0.2...</td>\n",
       "      <td>{0,0,0,0,0,0,0,0,0,0,0,0,0,0,0,0,0,0,0,0,0,0,0...</td>\n",
       "      <td>0.520163</td>\n",
       "    </tr>\n",
       "    <tr>\n",
       "      <th>4</th>\n",
       "      <td>18531524</td>\n",
       "      <td>ae23dc7e63526323dde46200</td>\n",
       "      <td>18531402</td>\n",
       "      <td>\\N</td>\n",
       "      <td>1590</td>\n",
       "      <td>\\N</td>\n",
       "      <td>0</td>\n",
       "      <td>{0.034810225680454665,0.518954702096612541,-0....</td>\n",
       "      <td>{0,0,0,0,0,0,0,0,0,0,0,0,0,0,0,0,0,0,0,0,0,0,0...</td>\n",
       "      <td>0.520163</td>\n",
       "    </tr>\n",
       "  </tbody>\n",
       "</table>\n",
       "</div>"
      ],
      "text/plain": [
       "         id                       key   parent1 parent2  creator  \\\n",
       "0  18531515  25c9a965c3e6222b1527ec31  18531402      \\N     1590   \n",
       "1  18531516  50904a236e98d71036e9dabc  18531402      \\N     1590   \n",
       "2  18531517  da3f4d654c3620392e37f847  18531402      \\N     1590   \n",
       "3  18531518  e219b09da129157d62e1a331  18531402      \\N     1590   \n",
       "4  18531524  ae23dc7e63526323dde46200  18531402      \\N     1590   \n",
       "\n",
       "  creation_type  liked                                             vector  \\\n",
       "0            \\N      0  {0.218553458327344963,-0.100470823187122485,-0...   \n",
       "1            \\N      0  {0.0497139209960815801,0.231948704304708236,0....   \n",
       "2            \\N      0  {0.193376900964014775,0.267763811403666674,0.2...   \n",
       "3            \\N      0  {0.0660950443520152281,0.51828771328422607,0.2...   \n",
       "4            \\N      0  {0.034810225680454665,0.518954702096612541,-0....   \n",
       "\n",
       "                                               label  truncation  \n",
       "0  {0,0,0,0,0,0,0,0,0,0,0,0,0,0,0,0,0,0,0,0,0,0,0...    0.520163  \n",
       "1  {0,0,0,0,0,0,0,0,0,0,0,0,0,0,0,0,0,0,0,0,0,0,0...    0.604127  \n",
       "2  {0,0,0,0,0,0,0,0,0,0,0,0,0,0,0,0,0,0,0,0,0,0,0...    0.441678  \n",
       "3  {0,0,0,0,0,0,0,0,0,0,0,0,0,0,0,0,0,0,0,0,0,0,0...    0.520163  \n",
       "4  {0,0,0,0,0,0,0,0,0,0,0,0,0,0,0,0,0,0,0,0,0,0,0...    0.520163  "
      ]
     },
     "metadata": {},
     "output_type": "display_data"
    },
    {
     "name": "stdout",
     "output_type": "stream",
     "text": [
      "CPU times: user 1.17 s, sys: 280 ms, total: 1.45 s\n",
      "Wall time: 1.5 s\n"
     ]
    }
   ],
   "source": [
    "%%time\n",
    "# give arrays reasonable names so we can get at them later (right now named with first row data)\n",
    "labels = ['id', 'key', 'parent1', 'parent2', 'creator', 'creation_type', 'liked', 'vector', 'label', 'truncation']\n",
    "for i, label in enumerate(labels):\n",
    "    gc.collect()\n",
    "    gp.rename(columns={ gp.columns[i]: label },inplace=True)\n",
    "display(gp.head(n=5))\n"
   ]
  },
  {
   "cell_type": "code",
   "execution_count": null,
   "metadata": {},
   "outputs": [],
   "source": [
    "%%time\n",
    "# this doesn't work on my python :(\n",
    "#gb.to_hdf('ganimages.hdf','gan')"
   ]
  },
  {
   "cell_type": "code",
   "execution_count": 5,
   "metadata": {},
   "outputs": [
    {
     "name": "stdout",
     "output_type": "stream",
     "text": [
      "CPU times: user 5.03 s, sys: 4.57 s, total: 9.6 s\n",
      "Wall time: 25.5 s\n"
     ]
    }
   ],
   "source": [
    "%%time\n",
    "#save to pickle so we can restart from here\n",
    "gp.to_pickle('unclean/ganimages.pkl')"
   ]
  },
  {
   "cell_type": "markdown",
   "metadata": {},
   "source": [
    "## Checkpoint \n",
    "-- restart from here if memory is low"
   ]
  },
  {
   "cell_type": "code",
   "execution_count": 6,
   "metadata": {
    "scrolled": true
   },
   "outputs": [
    {
     "name": "stdout",
     "output_type": "stream",
     "text": [
      "CPU times: user 3.16 s, sys: 2.25 s, total: 5.41 s\n",
      "Wall time: 5.75 s\n"
     ]
    }
   ],
   "source": [
    "%%time\n",
    "gp = pd.read_pickle('unclean/ganimages.pkl')"
   ]
  },
  {
   "cell_type": "code",
   "execution_count": 7,
   "metadata": {},
   "outputs": [
    {
     "data": {
      "text/html": [
       "<div>\n",
       "<style scoped>\n",
       "    .dataframe tbody tr th:only-of-type {\n",
       "        vertical-align: middle;\n",
       "    }\n",
       "\n",
       "    .dataframe tbody tr th {\n",
       "        vertical-align: top;\n",
       "    }\n",
       "\n",
       "    .dataframe thead th {\n",
       "        text-align: right;\n",
       "    }\n",
       "</style>\n",
       "<table border=\"1\" class=\"dataframe\">\n",
       "  <thead>\n",
       "    <tr style=\"text-align: right;\">\n",
       "      <th></th>\n",
       "      <th>id</th>\n",
       "      <th>key</th>\n",
       "      <th>parent1</th>\n",
       "      <th>parent2</th>\n",
       "      <th>creator</th>\n",
       "      <th>creation_type</th>\n",
       "      <th>liked</th>\n",
       "      <th>vector</th>\n",
       "      <th>label</th>\n",
       "      <th>truncation</th>\n",
       "    </tr>\n",
       "  </thead>\n",
       "  <tbody>\n",
       "    <tr>\n",
       "      <th>0</th>\n",
       "      <td>18531515</td>\n",
       "      <td>25c9a965c3e6222b1527ec31</td>\n",
       "      <td>18531402</td>\n",
       "      <td>\\N</td>\n",
       "      <td>1590</td>\n",
       "      <td>\\N</td>\n",
       "      <td>0</td>\n",
       "      <td>{0.218553458327344963,-0.100470823187122485,-0...</td>\n",
       "      <td>{0,0,0,0,0,0,0,0,0,0,0,0,0,0,0,0,0,0,0,0,0,0,0...</td>\n",
       "      <td>0.520163</td>\n",
       "    </tr>\n",
       "    <tr>\n",
       "      <th>1</th>\n",
       "      <td>18531516</td>\n",
       "      <td>50904a236e98d71036e9dabc</td>\n",
       "      <td>18531402</td>\n",
       "      <td>\\N</td>\n",
       "      <td>1590</td>\n",
       "      <td>\\N</td>\n",
       "      <td>0</td>\n",
       "      <td>{0.0497139209960815801,0.231948704304708236,0....</td>\n",
       "      <td>{0,0,0,0,0,0,0,0,0,0,0,0,0,0,0,0,0,0,0,0,0,0,0...</td>\n",
       "      <td>0.604127</td>\n",
       "    </tr>\n",
       "    <tr>\n",
       "      <th>2</th>\n",
       "      <td>18531517</td>\n",
       "      <td>da3f4d654c3620392e37f847</td>\n",
       "      <td>18531402</td>\n",
       "      <td>\\N</td>\n",
       "      <td>1590</td>\n",
       "      <td>\\N</td>\n",
       "      <td>0</td>\n",
       "      <td>{0.193376900964014775,0.267763811403666674,0.2...</td>\n",
       "      <td>{0,0,0,0,0,0,0,0,0,0,0,0,0,0,0,0,0,0,0,0,0,0,0...</td>\n",
       "      <td>0.441678</td>\n",
       "    </tr>\n",
       "    <tr>\n",
       "      <th>3</th>\n",
       "      <td>18531518</td>\n",
       "      <td>e219b09da129157d62e1a331</td>\n",
       "      <td>18531402</td>\n",
       "      <td>\\N</td>\n",
       "      <td>1590</td>\n",
       "      <td>\\N</td>\n",
       "      <td>0</td>\n",
       "      <td>{0.0660950443520152281,0.51828771328422607,0.2...</td>\n",
       "      <td>{0,0,0,0,0,0,0,0,0,0,0,0,0,0,0,0,0,0,0,0,0,0,0...</td>\n",
       "      <td>0.520163</td>\n",
       "    </tr>\n",
       "    <tr>\n",
       "      <th>4</th>\n",
       "      <td>18531524</td>\n",
       "      <td>ae23dc7e63526323dde46200</td>\n",
       "      <td>18531402</td>\n",
       "      <td>\\N</td>\n",
       "      <td>1590</td>\n",
       "      <td>\\N</td>\n",
       "      <td>0</td>\n",
       "      <td>{0.034810225680454665,0.518954702096612541,-0....</td>\n",
       "      <td>{0,0,0,0,0,0,0,0,0,0,0,0,0,0,0,0,0,0,0,0,0,0,0...</td>\n",
       "      <td>0.520163</td>\n",
       "    </tr>\n",
       "  </tbody>\n",
       "</table>\n",
       "</div>"
      ],
      "text/plain": [
       "         id                       key   parent1 parent2  creator  \\\n",
       "0  18531515  25c9a965c3e6222b1527ec31  18531402      \\N     1590   \n",
       "1  18531516  50904a236e98d71036e9dabc  18531402      \\N     1590   \n",
       "2  18531517  da3f4d654c3620392e37f847  18531402      \\N     1590   \n",
       "3  18531518  e219b09da129157d62e1a331  18531402      \\N     1590   \n",
       "4  18531524  ae23dc7e63526323dde46200  18531402      \\N     1590   \n",
       "\n",
       "  creation_type  liked                                             vector  \\\n",
       "0            \\N      0  {0.218553458327344963,-0.100470823187122485,-0...   \n",
       "1            \\N      0  {0.0497139209960815801,0.231948704304708236,0....   \n",
       "2            \\N      0  {0.193376900964014775,0.267763811403666674,0.2...   \n",
       "3            \\N      0  {0.0660950443520152281,0.51828771328422607,0.2...   \n",
       "4            \\N      0  {0.034810225680454665,0.518954702096612541,-0....   \n",
       "\n",
       "                                               label  truncation  \n",
       "0  {0,0,0,0,0,0,0,0,0,0,0,0,0,0,0,0,0,0,0,0,0,0,0...    0.520163  \n",
       "1  {0,0,0,0,0,0,0,0,0,0,0,0,0,0,0,0,0,0,0,0,0,0,0...    0.604127  \n",
       "2  {0,0,0,0,0,0,0,0,0,0,0,0,0,0,0,0,0,0,0,0,0,0,0...    0.441678  \n",
       "3  {0,0,0,0,0,0,0,0,0,0,0,0,0,0,0,0,0,0,0,0,0,0,0...    0.520163  \n",
       "4  {0,0,0,0,0,0,0,0,0,0,0,0,0,0,0,0,0,0,0,0,0,0,0...    0.520163  "
      ]
     },
     "metadata": {},
     "output_type": "display_data"
    }
   ],
   "source": [
    "\n",
    "display(gp.head(n=5))"
   ]
  },
  {
   "cell_type": "markdown",
   "metadata": {},
   "source": [
    "# Convert and save vectors and labels\n",
    "Vectors are 120-dim (mostly!) and labels are 1000-dim class membership"
   ]
  },
  {
   "cell_type": "code",
   "execution_count": 8,
   "metadata": {},
   "outputs": [
    {
     "name": "stdout",
     "output_type": "stream",
     "text": [
      "RangeIndex(start=0, stop=937907, step=1)\n",
      "CPU times: user 1min 23s, sys: 928 ms, total: 1min 24s\n",
      "Wall time: 1min 23s\n"
     ]
    }
   ],
   "source": [
    "%%time\n",
    "\n",
    "print(gp.index)\n",
    "    \n",
    "#l= gb.loc['creator']\n",
    "\n",
    "vectors = []\n",
    "for v in gp['vector'].values:\n",
    "    v = v.translate(None, \"{}\")\n",
    "    try:\n",
    "        # convert from string to list of floats\n",
    "        vectors.append([float(f)  for f in v.split(',')])\n",
    "    except ValueError:\n",
    "        print(\"error at line: \" + str(v))\n",
    "\n"
   ]
  },
  {
   "cell_type": "code",
   "execution_count": 9,
   "metadata": {},
   "outputs": [
    {
     "name": "stdout",
     "output_type": "stream",
     "text": [
      "(937907,)\n"
     ]
    }
   ],
   "source": [
    "vectors = np.array(vectors)\n",
    "print(vectors.shape)\n",
    "# vectors is not 2-D (still an array of lists) because some rows are different size (120 & 140). Fix\n",
    "# in cleanup later)\n"
   ]
  },
  {
   "cell_type": "code",
   "execution_count": 10,
   "metadata": {},
   "outputs": [
    {
     "name": "stdout",
     "output_type": "stream",
     "text": [
      "CPU times: user 16.8 s, sys: 756 ms, total: 17.5 s\n",
      "Wall time: 18.2 s\n"
     ]
    }
   ],
   "source": [
    "%%time\n",
    "# make an \"unclean\" directory and save so we can restart without having to do this rigamarole again\n",
    "\n",
    "np.save(\"unclean/vectors.npy\",vectors)"
   ]
  },
  {
   "cell_type": "code",
   "execution_count": 11,
   "metadata": {},
   "outputs": [
    {
     "data": {
      "text/plain": [
       "0"
      ]
     },
     "execution_count": 11,
     "metadata": {},
     "output_type": "execute_result"
    }
   ],
   "source": [
    "# uncomment and run to claw back some memory\n",
    "\n",
    "#del labels\n",
    "del vectors\n",
    "gc.collect()"
   ]
  },
  {
   "cell_type": "code",
   "execution_count": 12,
   "metadata": {},
   "outputs": [
    {
     "name": "stdout",
     "output_type": "stream",
     "text": [
      "RangeIndex(start=0, stop=937907, step=1)\n",
      "error at line: 0,0,0,0,0,0,0,0,0,0,0,0,0,0,0,0,0,0,0,0,0,0,0,0,0,0,0,0,0,0,0,0,0,0,0,0,0,0,0,0,0,0,0,0,0,0,0,0,0,0,0,0,0,0,0,0,0,0,0,0,0,0,0,0,0,0,0,0,0,0,0,0,0,0,0,0,0,0,0,0,0,0,0,0,0,0,0,0,0,0,0,0,0,0,0,0,0,0,0,0,0,0,0,0,0,0,0,0.0507244112143118986,0,0,0,0,0,0,0,0,0,0.0563796771334483388,0,0,0,0,0,0,0,0,0,0,0,0,0,0,0,0,0,0,0,0,0,0,0,0,0,0,0,0,0,0,0,0,0,0,0,0,0,0,0,0,0,0,0,0,0,0,0,0,0,0,0,0,0,0,0,0,0,0,0,0,0,0,0,0,0,0,0,0,0,0,0,0,0,0,0,0,0,0,0,0,0,0,0,0,0,0,0,0,0,0,0,0,0,0,0,0,0,0,0,0,0,0,0,0,0,0,0,0,0,0,0,0,0,0,0,0,0,0,0,0,0,0,0,0,0,0,0,0,0,0,0,0,0,0,0,0,0,0,0,0,0,0,0.0166508409052849513,0,0,0,0,0,0,0,0,0,0,0,0,0,0,0,0,0,0,0,0,0,0,0,0,0,0,0,0,0,0,0,0,0,0,0,0,0,0,0,0,0,0,0,0,0,0,0,0,0,0,0,0,0,0,0,0,0,0,0.0268991751309046803,0,0,0,0,0,0,0,0,0,0,0,0,0,0,0,0,0,0,0,0,0,0,0,0,0,0,0,0,0,0,0,0,0,0,0,0,0,0,0,0,0,0,0,0,0,0,0,0,0,0,0,0,0,0,0,0,0,0,0,0,0,0,0,0,0,0,0,0,0,0,0,0,0,0,0,0,0,0,0,0,0,0,0,0,0,0,0,0,0,0,0,0,0,0,0,0,0,0,0,0,0,0,0,0,0,0,0,0,0,0,0,0,0,0,0,0,0,0,0,0,0,0,0,0,0,0,0,0,0,0,0,0,0,0,0,0,0,0,0,0,0,0,0,0,0,0,0,0,0,0,0,0,0,0,0,0,0,0,0,0,0,0,0,0,0,0,0,0.0362730090854810269,0,0,0,0,0,0,0,0,0,0,0,0,0,0,0,0,0,0,0,0,0,0,0,0,0,0,0,0,0,0,0,0,0,0,0,0,0,0,0,0,0,0,0.0383934177265330967,0,0,0,0,0,0,0,0,0,0,0,0,0,0,0,0,0,0,0,0,0,0,0,0,0,0,0,0,0,0,0,0,0,0,0,0.056073736717566762,0,0,0,0.0572389031903932227,0,0,0,0,0,0,0,0,0,0,0,0,0,0,0,0,0,0,0,0,0,0,0,0,0,0,0,0,0,0,0,0,0,0,0,0,0.00924164215364785442,0,0,0,0,0,0,0,0,0,0,0,0,0,0,0,0,0,0,0,0,0,0,0,0,0,0,0,0,0,0,0,0,0,0,0,0.476869255156338934,0,0,0,0,0,0,0,0,0,0,0,0,0,0,0,0,0,0,0,0,0,0,0,0,0.014498290424455846,0,0,0,0,0,0,0,0,0,0,0,0,0,0,0,0,0,0,0,0,0,0,0,0,0,0,0,0,0,0,0,0,0,0,0,0,0,0,0,0,0,0,0,0,0,0,0,0,0.0547678120100828225,0,0,0,0,0,0,0,0,0,0,0,0,0,0,0,0,0,0,0,0,0,0,0,0,0,0,0,0,0,0,0,0,0,0,0,0,0,0,0,0,0,0,0,0,0,0,0,0,0,0,0,0,0,0,0,0,0,0,0,0,0,0,0,0,0,0,0,0,0,0,0,0,0,0,0,0,0,0,0,0,0,0,0,0,0,0,0,0,0,0,0,0,0,0,0,0,0,0,0,0,0,0,0,0,0,0,0,0,0,0,0,0,0,0,0,0,0,0,0,0,0,0,0,0,0,0,0,0,0,0,0,0,0,0,0,0,0,0,0,0,0,0,0,0,0.0167591363214795695,0,0,0,0,0,0,0,0,0,0,0,0,0,0,0,0.00924091001807392579,0,0,0,0,0,0.0315658117992001566,0,0,0,0,0,0,0,0,0,0,0,0,0,0,0,0,0,0,0,0,0,0,0,\n",
      "CPU times: user 6min 57s, sys: 2min 12s, total: 9min 9s\n",
      "Wall time: 40min 6s\n"
     ]
    }
   ],
   "source": [
    "%%time\n",
    "\n",
    "print(gp.index)\n",
    "\n",
    "labels = []\n",
    "for v in gp['label'].values:\n",
    "    v = v.translate(None, \"{}\")\n",
    "    try:\n",
    "        # convert from string to list of floats\n",
    "        labels.append([float(f)  for f in v.split(',')])\n",
    "    except ValueError:\n",
    "        print(\"error at line: \" + str(v))\n",
    "        # error parsing, set to all 1s so we can filter it out later\n",
    "        labels.append([1.]*1000)\n"
   ]
  },
  {
   "cell_type": "code",
   "execution_count": 13,
   "metadata": {},
   "outputs": [
    {
     "name": "stdout",
     "output_type": "stream",
     "text": [
      "(937907, 1000)\n"
     ]
    }
   ],
   "source": [
    "labels = np.array(labels)\n",
    "print(labels.shape)\n"
   ]
  },
  {
   "cell_type": "code",
   "execution_count": 14,
   "metadata": {},
   "outputs": [
    {
     "name": "stdout",
     "output_type": "stream",
     "text": [
      "CPU times: user 356 ms, sys: 8.98 s, total: 9.33 s\n",
      "Wall time: 2min 28s\n"
     ]
    }
   ],
   "source": [
    "\n",
    "%%time\n",
    "# make an \"unclean\" directory and save so we can restart without having to do this rigamarole again\n",
    "\n",
    "np.save(\"unclean/labels.npy\",labels)\n",
    "\n",
    "\n",
    "#Probabaly want to restart kernel here because memory!"
   ]
  },
  {
   "cell_type": "code",
   "execution_count": 15,
   "metadata": {},
   "outputs": [
    {
     "data": {
      "text/plain": [
       "0"
      ]
     },
     "execution_count": 15,
     "metadata": {},
     "output_type": "execute_result"
    }
   ],
   "source": [
    "# uncomment and run to claw back some memory\n",
    "\n",
    "del labels\n",
    "#del vectors\n",
    "gc.collect()\n"
   ]
  },
  {
   "cell_type": "markdown",
   "metadata": {},
   "source": [
    "# Convert and save labels and likes"
   ]
  },
  {
   "cell_type": "code",
   "execution_count": 16,
   "metadata": {},
   "outputs": [
    {
     "name": "stdout",
     "output_type": "stream",
     "text": [
      "CPU times: user 552 ms, sys: 140 ms, total: 692 ms\n",
      "Wall time: 3.04 s\n"
     ]
    }
   ],
   "source": [
    "%%time\n",
    "\n",
    "\n",
    "# these are strings --but sometimes things want to interpret as hex ints so make them byte arrays?     \n",
    "\n",
    "keys = []\n",
    "for k in gp['key'].values:\n",
    "    keys.append(bytearray(k))\n"
   ]
  },
  {
   "cell_type": "code",
   "execution_count": 17,
   "metadata": {},
   "outputs": [
    {
     "name": "stdout",
     "output_type": "stream",
     "text": [
      "CPU times: user 25.5 s, sys: 412 ms, total: 25.9 s\n",
      "Wall time: 31.4 s\n"
     ]
    }
   ],
   "source": [
    "%%time\n",
    "\n",
    "with open('unclean/keys.pkl', 'wb') as f:\n",
    "    # Pickle the 'data' dictionary using the highest protocol available.\n",
    "    pickle.dump(keys, f, pickle.HIGHEST_PROTOCOL)\n"
   ]
  },
  {
   "cell_type": "code",
   "execution_count": 28,
   "metadata": {},
   "outputs": [
    {
     "name": "stdout",
     "output_type": "stream",
     "text": [
      "CPU times: user 440 ms, sys: 0 ns, total: 440 ms\n",
      "Wall time: 517 ms\n"
     ]
    }
   ],
   "source": [
    "%%time\n",
    "\n",
    "likes = []\n",
    "for l in gp['liked'].values:\n",
    "    try:\n",
    "        likes.append(int(l))\n",
    "    except ValueError:\n",
    "        print(\"error at line: \" + str(l))\n",
    "        likes.append(0)"
   ]
  },
  {
   "cell_type": "code",
   "execution_count": 19,
   "metadata": {},
   "outputs": [
    {
     "name": "stdout",
     "output_type": "stream",
     "text": [
      "CPU times: user 480 ms, sys: 4 ms, total: 484 ms\n",
      "Wall time: 609 ms\n"
     ]
    }
   ],
   "source": [
    "%%time\n",
    "\n",
    "ids = []\n",
    "for l in gp['id'].values:\n",
    "    try:\n",
    "        ids.append(int(l))\n",
    "    except ValueError:\n",
    "        ids.append(0)\n"
   ]
  },
  {
   "cell_type": "code",
   "execution_count": 34,
   "metadata": {},
   "outputs": [
    {
     "name": "stdout",
     "output_type": "stream",
     "text": [
      "CPU times: user 408 ms, sys: 4 ms, total: 412 ms\n",
      "Wall time: 414 ms\n"
     ]
    }
   ],
   "source": [
    "%%time\n",
    "\n",
    "trunc = []\n",
    "for l in gp['truncation'].values:\n",
    "    try:\n",
    "        trunc.append(float(l))\n",
    "    except ValueError:\n",
    "        print(str(l))\n",
    "        trunc.append(0.)\n",
    "np.save('unclean/truncation.npy',np.array(trunc))"
   ]
  },
  {
   "cell_type": "code",
   "execution_count": 20,
   "metadata": {},
   "outputs": [
    {
     "name": "stdout",
     "output_type": "stream",
     "text": [
      "CPU times: user 124 ms, sys: 8 ms, total: 132 ms\n",
      "Wall time: 197 ms\n"
     ]
    }
   ],
   "source": [
    "%%time\n",
    "# assuming uint64 is big enough, right?\n",
    "ids = np.array(ids,dtype='uint64')\n"
   ]
  },
  {
   "cell_type": "code",
   "execution_count": 23,
   "metadata": {},
   "outputs": [
    {
     "name": "stdout",
     "output_type": "stream",
     "text": [
      "CPU times: user 0 ns, sys: 4 ms, total: 4 ms\n",
      "Wall time: 9.23 ms\n"
     ]
    }
   ],
   "source": [
    "%%time\n",
    "np.save('unclean/ids.npy',ids)"
   ]
  },
  {
   "cell_type": "code",
   "execution_count": 25,
   "metadata": {},
   "outputs": [
    {
     "name": "stdout",
     "output_type": "stream",
     "text": [
      "(937907,)\n",
      "CPU times: user 2.72 s, sys: 44 ms, total: 2.76 s\n",
      "Wall time: 2.84 s\n"
     ]
    }
   ],
   "source": [
    "%%time\n",
    "\n",
    "\n",
    "parent1 = []\n",
    "for l in gp['parent1'].values:\n",
    "    try:\n",
    "        parent1.append(int(l))\n",
    "    except ValueError:\n",
    "        parent1.append(0)\n",
    "\n",
    "parent2 = []\n",
    "for l in gp['parent2'].values:\n",
    "    try:\n",
    "        parent2.append(int(l))\n",
    "    except ValueError:\n",
    "        parent2.append(0)\n",
    "\n",
    "        \n",
    "parent1 = np.array(parent1)\n",
    "print(parent1.shape)\n",
    "parent1 = np.array(parent2)\n",
    "print(parent2.shape)"
   ]
  },
  {
   "cell_type": "code",
   "execution_count": 42,
   "metadata": {},
   "outputs": [],
   "source": [
    "\n",
    "np.save('unclean/parent1.npy',np.array(parent1))\n",
    "np.save('unclean/parent2.npy',np.array(parent2))"
   ]
  },
  {
   "cell_type": "markdown",
   "metadata": {},
   "source": [
    "# reload uncleaned data\n",
    "Restart from here without having to redo above"
   ]
  },
  {
   "cell_type": "code",
   "execution_count": 2,
   "metadata": {},
   "outputs": [
    {
     "name": "stdout",
     "output_type": "stream",
     "text": [
      "CPU times: user 29.3 s, sys: 2.07 s, total: 31.4 s\n",
      "Wall time: 31.7 s\n"
     ]
    }
   ],
   "source": [
    "%%time\n",
    "gc.collect()\n",
    "uvectors = np.load('unclean/vectors.npy')"
   ]
  },
  {
   "cell_type": "code",
   "execution_count": 3,
   "metadata": {},
   "outputs": [
    {
     "name": "stdout",
     "output_type": "stream",
     "text": [
      "CPU times: user 2.24 s, sys: 4.01 s, total: 6.24 s\n",
      "Wall time: 17.6 s\n"
     ]
    }
   ],
   "source": [
    "%%time\n",
    "gc.collect()\n",
    "uclasses = np.load('unclean/classes.npy')"
   ]
  },
  {
   "cell_type": "code",
   "execution_count": 4,
   "metadata": {},
   "outputs": [
    {
     "name": "stdout",
     "output_type": "stream",
     "text": [
      "CPU times: user 1.74 s, sys: 0 ns, total: 1.74 s\n",
      "Wall time: 1.78 s\n"
     ]
    }
   ],
   "source": [
    "%%time\n",
    "gc.collect()\n",
    "ulikes = np.load('unclean/likes.npy')"
   ]
  },
  {
   "cell_type": "code",
   "execution_count": 5,
   "metadata": {},
   "outputs": [
    {
     "name": "stdout",
     "output_type": "stream",
     "text": [
      "CPU times: user 1.74 s, sys: 12 ms, total: 1.76 s\n",
      "Wall time: 1.79 s\n"
     ]
    }
   ],
   "source": [
    "%%time\n",
    "gc.collect()\n",
    "utrunc = np.load('unclean/truncation.npy')"
   ]
  },
  {
   "cell_type": "code",
   "execution_count": 6,
   "metadata": {},
   "outputs": [
    {
     "name": "stdout",
     "output_type": "stream",
     "text": [
      "CPU times: user 9.7 s, sys: 268 ms, total: 9.97 s\n",
      "Wall time: 10 s\n"
     ]
    }
   ],
   "source": [
    "%%time \n",
    "import pickle\n",
    "with open('unclean/keys.pkl', 'rb') as f:\n",
    "    ukeys = pickle.load(f)"
   ]
  },
  {
   "cell_type": "code",
   "execution_count": 7,
   "metadata": {},
   "outputs": [
    {
     "name": "stdout",
     "output_type": "stream",
     "text": [
      "CPU times: user 0 ns, sys: 12 ms, total: 12 ms\n",
      "Wall time: 63.7 ms\n"
     ]
    }
   ],
   "source": [
    "%%time\n",
    "uparent1 = np.load('unclean/parent1.npy')\n",
    "uparent2 = np.load('unclean/parent2.npy')\n",
    "uids = np.load('unclean/ids.npy')"
   ]
  },
  {
   "cell_type": "code",
   "execution_count": 8,
   "metadata": {},
   "outputs": [
    {
     "name": "stdout",
     "output_type": "stream",
     "text": [
      "(937907,)\n",
      "(937907,)\n",
      "(937907,)\n",
      "(937907,)\n",
      "(937907,)\n",
      "(937907,)\n",
      "937907\n"
     ]
    }
   ],
   "source": [
    "# sanity check: did we miss any rows? All arrays should have same first dimension\n",
    "\n",
    "udata = [uids, uparent1, uparent2, uvectors, ulikes,  utrunc]\n",
    "#udata = [uids, uparent1, uparent2, uvectors, uclasses, utrunc]\n",
    "\n",
    "for d in udata:\n",
    "    print(d.shape)\n",
    "print(len(ukeys))\n"
   ]
  },
  {
   "cell_type": "markdown",
   "metadata": {},
   "source": [
    "# Data cleanup -- remove bad table entries"
   ]
  },
  {
   "cell_type": "code",
   "execution_count": 9,
   "metadata": {},
   "outputs": [
    {
     "name": "stdout",
     "output_type": "stream",
     "text": [
      "1993\n",
      "27259\n"
     ]
    },
    {
     "data": {
      "image/png": "[encoded data removed]",
      "text/plain": [
       "<Figure size 432x288 with 1 Axes>"
      ]
     },
     "metadata": {
      "needs_background": "light"
     },
     "output_type": "display_data"
    }
   ],
   "source": [
    "#First take a look at vector lengths, there are some dodgy ones\n",
    " \n",
    "\n",
    "lengths = np.array([len(v) for v in uvectors])\n",
    "\n",
    "longones = np.where(lengths==140)\n",
    "plt.plot(lengths)\n",
    "\n",
    "\n",
    "print(len(longones[0]))\n",
    "print(longones[0][0])\n",
    "#print(goodi.shape)\n",
    "#print(uvectors.shape)\n",
    "#vvectors = np.array(uvectors)"
   ]
  },
  {
   "cell_type": "code",
   "execution_count": 10,
   "metadata": {},
   "outputs": [
    {
     "name": "stdout",
     "output_type": "stream",
     "text": [
      "uids = uids[goodi]\n",
      "uparent1 = uparent1[goodi]\n",
      "uparent2 = uparent2[goodi]\n",
      "uvectors = uvectors[goodi]\n",
      "uclasses = uclasses[goodi]\n",
      "ulikes = ulikes[goodi]\n",
      "utrunc = utrunc[goodi]\n",
      "print(uids.shape)\n",
      "(935913,)\n",
      "print(uparent1.shape)\n",
      "(935913,)\n",
      "print(uparent2.shape)\n",
      "(935913,)\n",
      "print(uvectors.shape)\n",
      "(935913,)\n",
      "print(uclasses.shape)\n",
      "(935913, 1000)\n",
      "print(ulikes.shape)\n",
      "(935913,)\n",
      "print(utrunc.shape)\n",
      "(935913,)\n",
      "935913\n"
     ]
    }
   ],
   "source": [
    "# first round of cleaning:\n",
    "# extract good data (where vectors = 128)\n",
    "\n",
    "dnames = ['uids', 'uparent1', 'uparent2', 'uvectors', 'uclasses', 'ulikes', 'utrunc']\n",
    "\n",
    "\n",
    "lengths = np.array([len(v) for v in uvectors[0:-1]])\n",
    "# find good indexes where the vector length is 128, some problem with last one \n",
    "goodi = np.where(lengths==128)\n",
    "#goodi = goodi[0]\n",
    "\n",
    "# kind of hacky here, do this \"in place\" using exec so we can avoid temp variables\n",
    "for d in dnames:\n",
    "    execstr = \"{0} = {0}[goodi]\".format(d)\n",
    "    print(execstr)\n",
    "    exec(execstr)\n",
    "\n",
    "# now that uvectors has uniform number of rows, make it into an array\n",
    "uvectors = np.array(uvectors)\n",
    "\n",
    "for d in dnames:\n",
    "    execstr = \"print({0}.shape)\".format(d)\n",
    "    print(execstr)\n",
    "    exec(execstr)\n",
    "\n",
    "# keys are a list of strings so cant use numpy operations\n",
    "\n",
    "ukeys = [ukeys[int(i)] for i in goodi[0]]\n",
    "print(len(ukeys))\n",
    "\n",
    "\n"
   ]
  },
  {
   "cell_type": "code",
   "execution_count": 11,
   "metadata": {},
   "outputs": [
    {
     "data": {
      "text/plain": [
       "2212"
      ]
     },
     "execution_count": 11,
     "metadata": {},
     "output_type": "execute_result"
    }
   ],
   "source": [
    "# claw back some memory\n",
    "try:\n",
    "    del vectors\n",
    "    del classes\n",
    "except NameError:\n",
    "    pass\n",
    "    \n",
    "gc.collect()"
   ]
  },
  {
   "cell_type": "code",
   "execution_count": 12,
   "metadata": {},
   "outputs": [
    {
     "name": "stdout",
     "output_type": "stream",
     "text": [
      "765352\n"
     ]
    }
   ],
   "source": [
    "# second round of cleaning:\n",
    "# class labels have nans, and values too large or small: get rid of those\n",
    "goodc = []\n",
    "\n",
    "for i, c in enumerate(uclasses):\n",
    "    inans = np.argwhere(np.isnan(c))\n",
    "    #print(inans)\n",
    "    if len(inans) == 0:\n",
    "        if (np.sum(c) <= 1.0) and (np.min(c) >= 0.0):\n",
    "            goodc.append(i)\n",
    "\n",
    "print(len(goodc))\n"
   ]
  },
  {
   "cell_type": "code",
   "execution_count": 13,
   "metadata": {},
   "outputs": [
    {
     "name": "stdout",
     "output_type": "stream",
     "text": [
      "uids = uids[goodc]\n",
      "uparent1 = uparent1[goodc]\n",
      "uparent2 = uparent2[goodc]\n",
      "uvectors = uvectors[goodc]\n",
      "uclasses = uclasses[goodc]\n",
      "ulikes = ulikes[goodc]\n",
      "utrunc = utrunc[goodc]\n",
      "print(uids.shape)\n",
      "(765352,)\n",
      "print(uparent1.shape)\n",
      "(765352,)\n",
      "print(uparent2.shape)\n",
      "(765352,)\n",
      "print(uvectors.shape)\n",
      "(765352,)\n",
      "print(uclasses.shape)\n",
      "(765352, 1000)\n",
      "print(ulikes.shape)\n",
      "(765352,)\n",
      "print(utrunc.shape)\n",
      "(765352,)\n"
     ]
    }
   ],
   "source": [
    "# first round of cleaning:\n",
    "# extract good data (where classes don't have wierd values\n",
    "\n",
    "# kind of hacky here, do this \"in place\" using exec so we can avoid temp variables\n",
    "for d in dnames:\n",
    "    execstr = \"{0} = {0}[goodc]\".format(d)\n",
    "    print(execstr)\n",
    "    exec(execstr)\n",
    "\n",
    "\n",
    "for d in dnames:\n",
    "    execstr = \"print({0}.shape)\".format(d)\n",
    "    print(execstr)\n",
    "    exec(execstr)\n",
    "\n",
    "# keys are a list of strings so cant use numpy operations\n",
    "\n",
    "ukeys = [ukeys[int(i)] for i in goodc]\n"
   ]
  },
  {
   "cell_type": "code",
   "execution_count": 14,
   "metadata": {},
   "outputs": [
    {
     "name": "stdout",
     "output_type": "stream",
     "text": [
      "935912\n",
      "0\n"
     ]
    }
   ],
   "source": [
    "print(np.max(goodc))\n",
    "print(np.min(goodc))"
   ]
  },
  {
   "cell_type": "code",
   "execution_count": 21,
   "metadata": {},
   "outputs": [
    {
     "name": "stdout",
     "output_type": "stream",
     "text": [
      "(765352,)\n",
      "(765352, 128)\n"
     ]
    }
   ],
   "source": [
    "# reshape vectors into actual shape\n",
    "print(uvectors.shape)\n",
    "n = len(uvectors)\n",
    "m = len(uvectors[0])\n",
    "uvectors = np.concatenate(uvectors).reshape((n,m))\n",
    "print(uvectors.shape)"
   ]
  },
  {
   "cell_type": "code",
   "execution_count": 22,
   "metadata": {},
   "outputs": [
    {
     "name": "stdout",
     "output_type": "stream",
     "text": [
      "np.save('uvectors.npy',uvectors)\n"
     ]
    }
   ],
   "source": [
    "dnames = ['uids', 'uparent1', 'uparent2', 'uvectors', 'uclasses', 'ulikes', 'utrunc']\n",
    "\n",
    "for d in dnames:\n",
    "    execstr = \"np.save('{0}.npy',{0})\".format(d)\n",
    "    print(execstr)\n",
    "    exec(execstr)\n",
    "\n",
    "with open('ukeys.pkl', 'wb') as f:\n",
    "    # Pickle the 'data' dictionary using the highest protocol available.\n",
    "    pickle.dump(ukeys, f, pickle.HIGHEST_PROTOCOL)"
   ]
  },
  {
   "cell_type": "markdown",
   "metadata": {},
   "source": [
    "# Read cleaned data\n",
    "Start here if data has been saved, and/or restart kernel to save memory"
   ]
  },
  {
   "cell_type": "code",
   "execution_count": 24,
   "metadata": {},
   "outputs": [
    {
     "name": "stdout",
     "output_type": "stream",
     "text": [
      "uids = np.load('uids.npy')\n",
      "print(uids.shape)\n",
      "(765352,)\n",
      "uparent1 = np.load('uparent1.npy')\n",
      "print(uparent1.shape)\n",
      "(765352,)\n",
      "uparent2 = np.load('uparent2.npy')\n",
      "print(uparent2.shape)\n",
      "(765352,)\n",
      "uvectors = np.load('uvectors.npy')\n",
      "print(uvectors.shape)\n",
      "(765352, 128)\n",
      "uclasses = np.load('uclasses.npy')\n",
      "print(uclasses.shape)\n",
      "(765352, 1000)\n",
      "ulikes = np.load('ulikes.npy')\n",
      "print(ulikes.shape)\n",
      "(765352,)\n",
      "utrunc = np.load('utrunc.npy')\n",
      "print(utrunc.shape)\n",
      "(765352,)\n",
      "CPU times: user 10.9 s, sys: 4.85 s, total: 15.7 s\n",
      "Wall time: 1min 20s\n"
     ]
    }
   ],
   "source": [
    "%%time\n",
    "\n",
    "\n",
    "dnames = ['uids', 'uparent1', 'uparent2', 'uvectors', 'uclasses', 'ulikes', 'utrunc']\n",
    "\n",
    "\n",
    "for d in dnames:\n",
    "    execstr = \"{0} = np.load('{0}.npy')\".format(d)\n",
    "    print(execstr)\n",
    "    exec(execstr)\n",
    "    execstr = \"print({0}.shape)\".format(d)\n",
    "    print(execstr)\n",
    "    exec(execstr)\n",
    "\n",
    "import pickle\n",
    "with open('ukeys.pkl', 'rb') as f:\n",
    "    ukeys = pickle.load(f)"
   ]
  },
  {
   "cell_type": "code",
   "execution_count": null,
   "metadata": {},
   "outputs": [],
   "source": []
  }
 ],
 "metadata": {
  "kernelspec": {
   "display_name": "Python 2",
   "language": "python",
   "name": "python2"
  },
  "language_info": {
   "codemirror_mode": {
    "name": "ipython",
    "version": 2
   },
   "file_extension": ".py",
   "mimetype": "text/x-python",
   "name": "python",
   "nbconvert_exporter": "python",
   "pygments_lexer": "ipython2",
   "version": "2.7.15"
  }
 },
 "nbformat": 4,
 "nbformat_minor": 2
}
