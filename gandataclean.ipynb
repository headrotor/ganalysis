{
 "cells": [
  {
   "cell_type": "code",
   "execution_count": 1,
   "metadata": {},
   "outputs": [],
   "source": [
    "import numpy as np\n",
    "import matplotlib as mpl\n",
    "import pandas as pd\n",
    "import gc\n",
    "import pickle\n",
    "import matplotlib.pyplot as plt\n",
    "from __future__ import print_function\n",
    "mpl.rcParams['figure.figsize'] = (18, 6)\n",
    "\n",
    "#import numpy as np\n"
   ]
  },
  {
   "cell_type": "code",
   "execution_count": null,
   "metadata": {},
   "outputs": [],
   "source": [
    "%%time\n",
    "\n",
    "# get image at https://ganbreeder.app/i?k=ae23dc7e63526323dde46200  where key is index\n",
    "# direct from aws https://s3.amazonaws.com/ganbreederpublic/imgs/ae23dc7e63526323dde46200.jpeg\n",
    "\n",
    "#gb = pd.read_table('C:/foote/bitb/ganbreeder/export_images.txt',  header=0, skiprows=23, sep='\\t')\n",
    "gb = pd.read_table('/home/jtf/gith/ganalysis/unclean/export_images.txt',  header=0, skiprows=23, sep='\\t')"
   ]
  },
  {
   "cell_type": "code",
   "execution_count": null,
   "metadata": {},
   "outputs": [],
   "source": [
    "%%time\n",
    "labels = ['id', 'key', 'parent1', 'parent2', 'creator', 'creation_type', 'liked', 'vector', 'label', 'truncation']\n",
    "for i, label in enumerate(labels):\n",
    "    gc.collect()\n",
    "    gb.rename(columns={ gb.columns[i]: label },inplace=True)\n",
    "display(gb.head(n=5))\n",
    "#print gb.shape\n",
    "#foo = gb.values"
   ]
  },
  {
   "cell_type": "code",
   "execution_count": null,
   "metadata": {},
   "outputs": [],
   "source": [
    "%%time\n",
    "gb.to_hdf('ganimages.hdf','gan')"
   ]
  },
  {
   "cell_type": "code",
   "execution_count": null,
   "metadata": {},
   "outputs": [],
   "source": [
    "%%time\n",
    "gb.to_pickle('ganimages.pkl')"
   ]
  },
  {
   "cell_type": "code",
   "execution_count": null,
   "metadata": {},
   "outputs": [],
   "source": [
    "%%time\n",
    "gp = pd.read_pickle('unclean/ganimages.pkl')"
   ]
  },
  {
   "cell_type": "code",
   "execution_count": null,
   "metadata": {},
   "outputs": [],
   "source": [
    "\n",
    "display(gp.head(n=5))"
   ]
  },
  {
   "cell_type": "code",
   "execution_count": null,
   "metadata": {},
   "outputs": [],
   "source": [
    "# save some memory\n",
    "try: \n",
    "    del gp\n",
    "    del gb\n",
    "    del vectors2\n",
    "except NameError:\n",
    "    pass\n",
    "gc.collect()"
   ]
  },
  {
   "cell_type": "markdown",
   "metadata": {},
   "source": [
    "# Convert and save classes and vectors"
   ]
  },
  {
   "cell_type": "code",
   "execution_count": null,
   "metadata": {},
   "outputs": [],
   "source": [
    "%%time\n",
    "\n",
    "print gb.index\n",
    "    \n",
    "#l= gb.loc['creator']\n",
    "\n",
    "vectors = []\n",
    "#for v in gb['label'].values[0:10]:\n",
    "for v in gb['vector'].values:\n",
    "    v = v.translate(None, \"{}\")\n",
    "    try:\n",
    "        vectors.append([float(f)  for f in v.split(',')])\n",
    "    except ValueError:\n",
    "        print \"error at line: \" + str(v)\n",
    "\n",
    "\n"
   ]
  },
  {
   "cell_type": "code",
   "execution_count": null,
   "metadata": {},
   "outputs": [],
   "source": [
    "lv = np.array(vectors)"
   ]
  },
  {
   "cell_type": "code",
   "execution_count": null,
   "metadata": {},
   "outputs": [],
   "source": [
    "\n",
    "%%time\n",
    "np.save(\"unclean/vectors.npy\",vectors)"
   ]
  },
  {
   "cell_type": "markdown",
   "metadata": {},
   "source": [
    "# Convert and save labels and likes"
   ]
  },
  {
   "cell_type": "code",
   "execution_count": null,
   "metadata": {},
   "outputs": [],
   "source": [
    "%%time\n",
    "\n",
    "\n",
    "    \n",
    "#l= gb.loc['creator']\n",
    "\n",
    "keys = []\n",
    "for k in gp['key'].values:\n",
    "    keys.append(k)\n",
    "\n",
    "# these are strings so ???"
   ]
  },
  {
   "cell_type": "code",
   "execution_count": null,
   "metadata": {},
   "outputs": [],
   "source": [
    "%%time\n",
    "\n",
    "with open('unclean/keys.pkl', 'wb') as f:\n",
    "    # Pickle the 'data' dictionary using the highest protocol available.\n",
    "    pickle.dump(keys, f, pickle.HIGHEST_PROTOCOL)\n"
   ]
  },
  {
   "cell_type": "code",
   "execution_count": null,
   "metadata": {},
   "outputs": [],
   "source": [
    "%%time\n",
    "\n",
    "gc.collect()\n",
    "# let's get an idea of the composition of the data. Let's look at class data first, and get a histogram. \n",
    "# What classes are there in what population?\n",
    "\n",
    "\n",
    "print gb.index\n",
    "\n",
    "\n",
    "likes = []\n",
    "for l in gb['liked'].values:\n",
    "    try:\n",
    "        likes.append(int(l))\n",
    "    except ValueError:\n",
    "        print \"error at line: \" + str(l)\n",
    "\n"
   ]
  },
  {
   "cell_type": "code",
   "execution_count": null,
   "metadata": {},
   "outputs": [],
   "source": [
    "%%time\n",
    "lb = np.array(likes,dtype='uint8')"
   ]
  },
  {
   "cell_type": "code",
   "execution_count": null,
   "metadata": {},
   "outputs": [],
   "source": [
    "%%time\n",
    "np.save('unclean/likes.npy',lb)"
   ]
  },
  {
   "cell_type": "code",
   "execution_count": null,
   "metadata": {},
   "outputs": [],
   "source": [
    "with open('unclean/keys.pkl', 'wb') as f:\n",
    "    pickle.dump(keys,f)\n"
   ]
  },
  {
   "cell_type": "markdown",
   "metadata": {},
   "source": [
    "# reload data\n",
    "Restart f"
   ]
  },
  {
   "cell_type": "code",
   "execution_count": 2,
   "metadata": {},
   "outputs": [
    {
     "name": "stdout",
     "output_type": "stream",
     "text": [
      "CPU times: user 23 s, sys: 1.5 s, total: 24.5 s\n",
      "Wall time: 24.5 s\n"
     ]
    }
   ],
   "source": [
    "%%time\n",
    "\n",
    "gc.collect()\n",
    "\n",
    "vectors = np.load('unclean/vectors.npy')\n"
   ]
  },
  {
   "cell_type": "code",
   "execution_count": 3,
   "metadata": {},
   "outputs": [
    {
     "name": "stdout",
     "output_type": "stream",
     "text": [
      "CPU times: user 2.08 s, sys: 5.51 s, total: 7.59 s\n",
      "Wall time: 16.7 s\n"
     ]
    }
   ],
   "source": [
    "%%time\n",
    "gc.collect()\n",
    "\n",
    "classes = np.load('unclean/classes.npy')\n"
   ]
  },
  {
   "cell_type": "code",
   "execution_count": 4,
   "metadata": {},
   "outputs": [
    {
     "name": "stdout",
     "output_type": "stream",
     "text": [
      "CPU times: user 1.72 s, sys: 0 ns, total: 1.72 s\n",
      "Wall time: 1.73 s\n"
     ]
    }
   ],
   "source": [
    "%%time\n",
    "gc.collect()\n",
    "\n",
    "likes = np.load('unclean/likes.npy')\n"
   ]
  },
  {
   "cell_type": "code",
   "execution_count": 5,
   "metadata": {},
   "outputs": [
    {
     "name": "stdout",
     "output_type": "stream",
     "text": [
      "CPU times: user 1.57 s, sys: 60 ms, total: 1.63 s\n",
      "Wall time: 1.64 s\n"
     ]
    }
   ],
   "source": [
    "%%time \n",
    "import pickle\n",
    "with open('unclean/keys.pkl', 'rb') as f:\n",
    "    keys = pickle.load(f)"
   ]
  },
  {
   "cell_type": "code",
   "execution_count": null,
   "metadata": {},
   "outputs": [],
   "source": []
  },
  {
   "cell_type": "markdown",
   "metadata": {},
   "source": [
    "# Data cleanup -- remove bad table entries"
   ]
  },
  {
   "cell_type": "code",
   "execution_count": 6,
   "metadata": {},
   "outputs": [
    {
     "name": "stdout",
     "output_type": "stream",
     "text": [
      "937907 937906 937907 937907\n",
      "128\n",
      "140\n",
      "1993\n",
      "(array([ 27259,  27260,  27261, ..., 916468, 916469, 916470]),)\n"
     ]
    }
   ],
   "source": [
    "#First take a look at vector lengths\n",
    " \n",
    "print(len(vectors), len(classes), len(likes), len(keys))\n",
    "# first take a look at lengths, remove last element of vectors because 1 longer than labels\n",
    "\n",
    "lengths = [len(v) for v in vectors[:-1]]\n",
    "print(min(lengths))\n",
    "print(max(lengths))\n",
    "\n",
    "lengths = np.array(lengths)\n",
    "print (np.count_nonzero(lengths == 140))\n",
    "\n",
    "print(np.where(lengths==140))\n",
    "#plt.plot(lengths)\n",
    "\n"
   ]
  },
  {
   "cell_type": "code",
   "execution_count": null,
   "metadata": {},
   "outputs": [],
   "source": []
  },
  {
   "cell_type": "code",
   "execution_count": 7,
   "metadata": {},
   "outputs": [],
   "source": [
    "# extract good data (where vectors = 128)\n",
    "\n",
    "goodi = np.where(lengths==128)\n",
    "\n",
    "\n",
    "goodv = vectors[goodi]\n",
    "n = len(goodv)\n",
    "m = len(goodv[0])\n",
    "goodv = np.concatenate(goodv).reshape((n,m))\n",
    "\n",
    "goodc = classes[goodi]\n",
    "goodk = [keys[int(i)] for i in goodi[0]]\n",
    "goodl = likes[goodi]"
   ]
  },
  {
   "cell_type": "code",
   "execution_count": 8,
   "metadata": {},
   "outputs": [
    {
     "data": {
      "text/plain": [
       "4"
      ]
     },
     "execution_count": 8,
     "metadata": {},
     "output_type": "execute_result"
    }
   ],
   "source": [
    "# claw back some memory\n",
    "try:\n",
    "    del vectors\n",
    "    del classes\n",
    "except NameError:\n",
    "    print('oops, no such var')\n",
    "    \n",
    "gc.collect()"
   ]
  },
  {
   "cell_type": "code",
   "execution_count": 32,
   "metadata": {
    "scrolled": true
   },
   "outputs": [
    {
     "name": "stdout",
     "output_type": "stream",
     "text": [
      "(935749, 1000)\n"
     ]
    }
   ],
   "source": [
    "print(goodc.shape)"
   ]
  },
  {
   "cell_type": "code",
   "execution_count": 9,
   "metadata": {},
   "outputs": [
    {
     "name": "stdout",
     "output_type": "stream",
     "text": [
      "935749\n"
     ]
    }
   ],
   "source": [
    "# class labels have nans, and values too large or small: get rid of those\n",
    "nonans = []\n",
    "for i, c in enumerate(goodc):\n",
    "    inans = np.argwhere(np.isnan(c))\n",
    "    #print(inans)\n",
    "    if len(inans) == 0:\n",
    "        if (np.max(c) <= 1.0) and (np.min(c) >= 0.0):\n",
    "            nonans.append(i)\n",
    "\n",
    "print(len(nonans))\n"
   ]
  },
  {
   "cell_type": "code",
   "execution_count": 11,
   "metadata": {},
   "outputs": [
    {
     "name": "stdout",
     "output_type": "stream",
     "text": [
      "935749 935749\n"
     ]
    }
   ],
   "source": [
    "goodv = goodv[nonans]\n",
    "goodc = goodc[nonans]\n",
    "goodl = goodl[nonans]\n",
    "goodk = [keys[int(i)] for i in nonans]\n",
    "\n",
    "\n",
    "print(len(goodv),len(goodc))"
   ]
  },
  {
   "cell_type": "code",
   "execution_count": 12,
   "metadata": {},
   "outputs": [
    {
     "name": "stdout",
     "output_type": "stream",
     "text": [
      "1.12589990684e+17\n",
      "-8.67904981483e+16\n"
     ]
    }
   ],
   "source": [
    "print(np.max(goodc))\n",
    "print(np.min(goodc))"
   ]
  },
  {
   "cell_type": "code",
   "execution_count": 13,
   "metadata": {},
   "outputs": [
    {
     "data": {
      "image/png": "[encoded data removed]",
      "text/plain": [
       "<Figure size 432x288 with 1 Axes>"
      ]
     },
     "metadata": {
      "needs_background": "light"
     },
     "output_type": "display_data"
    }
   ],
   "source": [
    "\n",
    "plt.plot(np.sum(goodc,axis=0));"
   ]
  },
  {
   "cell_type": "code",
   "execution_count": null,
   "metadata": {},
   "outputs": [],
   "source": [
    "print(goodv.shape)\n",
    "goodv = np.array(goodv)\n",
    "print(goodv.shape)\n",
    "n = len(goodv)\n",
    "m = len(goodv[0])\n",
    "v = np.concatenate(goodv).reshape((n,m))"
   ]
  },
  {
   "cell_type": "code",
   "execution_count": 25,
   "metadata": {
    "scrolled": true
   },
   "outputs": [
    {
     "data": {
      "image/png": "[encoded data removed]",
      "text/plain": [
       "<Figure size 432x288 with 1 Axes>"
      ]
     },
     "metadata": {
      "needs_background": "light"
     },
     "output_type": "display_data"
    }
   ],
   "source": [
    "plt.plot(goodv[1000])\n",
    "plt.show\n",
    "plt.plot(v[1000,:]);\n",
    "plt.show\n",
    "goodv = v"
   ]
  },
  {
   "cell_type": "code",
   "execution_count": 29,
   "metadata": {},
   "outputs": [
    {
     "name": "stdout",
     "output_type": "stream",
     "text": [
      "1.6\n",
      "-1.6\n"
     ]
    }
   ],
   "source": [
    "print(np.max(goodv))\n",
    "print(np.min(goodv))\n"
   ]
  },
  {
   "cell_type": "code",
   "execution_count": 35,
   "metadata": {},
   "outputs": [
    {
     "name": "stdout",
     "output_type": "stream",
     "text": [
      "(935749, 1000)\n"
     ]
    }
   ],
   "source": [
    "print(goodc.shape)\n",
    "\n",
    "np.save('goodv.npy',goodv)\n",
    "\n",
    "np.save('goodc.npy',goodc)\n",
    "\n",
    "np.save('goodl.npy',goodl)\n",
    "\n"
   ]
  },
  {
   "cell_type": "code",
   "execution_count": 27,
   "metadata": {},
   "outputs": [
    {
     "name": "stdout",
     "output_type": "stream",
     "text": [
      "CPU times: user 2.94 s, sys: 44 ms, total: 2.98 s\n",
      "Wall time: 3.05 s\n"
     ]
    }
   ],
   "source": [
    "%%time\n",
    "\n",
    "# save to disk  so we don't have to recalculate\n",
    "\n",
    "\n",
    "\n",
    "with open('goodk.pkl', 'wb') as f:\n",
    "    pickle.dump(goodk, f, pickle.HIGHEST_PROTOCOL)"
   ]
  },
  {
   "cell_type": "code",
   "execution_count": null,
   "metadata": {},
   "outputs": [],
   "source": [
    "print(np.max(goodc))\n",
    "\n",
    "print(np.min(goodc))\n"
   ]
  },
  {
   "cell_type": "markdown",
   "metadata": {},
   "source": [
    "# Read cleaned data\n",
    "Start here if data has been saved, and/or restart kernel to save memory"
   ]
  },
  {
   "cell_type": "code",
   "execution_count": 2,
   "metadata": {},
   "outputs": [
    {
     "name": "stdout",
     "output_type": "stream",
     "text": [
      "CPU times: user 1.68 s, sys: 5.91 s, total: 7.58 s\n",
      "Wall time: 17.6 s\n"
     ]
    }
   ],
   "source": [
    "%%time\n",
    "goodv = np.load('goodv.npy')\n",
    "\n",
    "goodc = np.load('goodc.npy')\n",
    "\n",
    "goodl = np.load('goodl.npy')\n",
    "\n",
    "with open('goodk.pkl', 'rb') as f:\n",
    "    goodk = pickle.load(f)\n"
   ]
  },
  {
   "cell_type": "code",
   "execution_count": null,
   "metadata": {},
   "outputs": [],
   "source": []
  },
  {
   "cell_type": "code",
   "execution_count": null,
   "metadata": {},
   "outputs": [],
   "source": []
  },
  {
   "cell_type": "code",
   "execution_count": null,
   "metadata": {},
   "outputs": [],
   "source": [
    "import matplotlib.pyplot as plt\n",
    "plt.plot(np.transpose(labels[2000:3000,:]));"
   ]
  },
  {
   "cell_type": "code",
   "execution_count": null,
   "metadata": {
    "scrolled": false
   },
   "outputs": [],
   "source": [
    "print np.sum(labels[0,:])\n",
    "print np.sum(labels[:,1])\n",
    "print np.argwhere(np.isnan(labels))\n",
    "#print np.max(labels,axis=1)"
   ]
  },
  {
   "cell_type": "code",
   "execution_count": null,
   "metadata": {
    "scrolled": false
   },
   "outputs": [],
   "source": [
    "print np.sum(goodl[0,:])\n",
    "print np.sum(goodl[:,1])\n",
    "print np.argwhere(np.isnan(labels))\n",
    "#print np.max(labels,axis=1)"
   ]
  },
  {
   "cell_type": "code",
   "execution_count": null,
   "metadata": {},
   "outputs": [],
   "source": [
    "#df = pd.DataFrame(np.random.randn(8, 4), index=dates, columns=['A', 'B', 'C', 'D'])\n",
    "df = pd.DataFrame({\"A\": [1, 2], \"B\": [3.0, 4.5]})\n",
    "#foo = df.values[columns=df.columns[1:]]\n",
    "foo = df['A'].values\n",
    "print foo\n",
    "\n",
    "print type(df)\n",
    "print type(gb)"
   ]
  },
  {
   "cell_type": "code",
   "execution_count": null,
   "metadata": {},
   "outputs": [],
   "source": []
  },
  {
   "cell_type": "code",
   "execution_count": null,
   "metadata": {},
   "outputs": [],
   "source": [
    "#http://www.apnorton.com/blog/2016/12/19/Visualizing-Multidimensional-Data-in-Python/\n",
    "\n",
    "from sklearn.decomposition import PCA as sklearnPCA\n",
    "from sklearn.discriminant_analysis import LinearDiscriminantAnalysis as LDA\n",
    "from sklearn.datasets.samples_generator import make_blobs\n",
    "\n",
    "from pandas.tools.plotting import parallel_coordinates"
   ]
  },
  {
   "cell_type": "code",
   "execution_count": null,
   "metadata": {},
   "outputs": [],
   "source": [
    "X, y = make_blobs(n_samples=200, centers=3, n_features=3, random_state=0)\n",
    "plt.scatter(X[:,0], X[:,2], c=y)\n",
    "plt.show()"
   ]
  },
  {
   "cell_type": "code",
   "execution_count": null,
   "metadata": {},
   "outputs": [],
   "source": [
    "\n",
    "url = 'https://archive.ics.uci.edu/ml/machine-learning-databases/wine/wine.data'\n",
    "cols =  ['Class', 'Alcohol', 'MalicAcid', 'Ash', 'AlcalinityOfAsh', 'Magnesium', 'TotalPhenols', \n",
    "         'Flavanoids', 'NonflavanoidPhenols', 'Proanthocyanins', 'ColorIntensity', \n",
    "         'Hue', 'OD280/OD315', 'Proline']\n",
    "data = pd.read_csv(url, names=cols)\n",
    "\n",
    "y = data['Class']          # Split off classifications\n",
    "X = data.loc[:, 'Alcohol':] # Split off features"
   ]
  },
  {
   "cell_type": "code",
   "execution_count": null,
   "metadata": {},
   "outputs": [],
   "source": [
    "data = pd.read_csv('iris.csv', names=['sepal_length','sepal_width','petal_length','petal_width','species'])"
   ]
  },
  {
   "cell_type": "code",
   "execution_count": null,
   "metadata": {},
   "outputs": [],
   "source": [
    "iris =  np.loadtxt('iris-num.csv', skiprows=1,delimiter=',')\n",
    "print iris.shape"
   ]
  },
  {
   "cell_type": "code",
   "execution_count": null,
   "metadata": {
    "scrolled": true
   },
   "outputs": [],
   "source": [
    "y=iris[:,4]\n",
    "plt.scatter(iris[:,0], iris[:,1], c=y)"
   ]
  },
  {
   "cell_type": "code",
   "execution_count": null,
   "metadata": {},
   "outputs": [],
   "source": [
    "#https://www.kdnuggets.com/2018/08/introduction-t-sne-python.html\n",
    "\n",
    "import pandas as pd\n",
    "import numpy as np\n",
    "import matplotlib.pyplot as plt\n",
    "import seaborn as sns\n",
    "from time import time\n"
   ]
  },
  {
   "cell_type": "code",
   "execution_count": null,
   "metadata": {},
   "outputs": [],
   "source": [
    "irises = pd.read_csv('iris.csv', skiprows=1, names=['sepal_length','sepal_width','petal_length','petal_width','species'])"
   ]
  },
  {
   "cell_type": "code",
   "execution_count": null,
   "metadata": {},
   "outputs": [],
   "source": [
    "\n",
    "pd.set_option('display.max_columns', None) # Show All Columns in Preview\n",
    "display(gb.head(n=5))"
   ]
  },
  {
   "cell_type": "code",
   "execution_count": null,
   "metadata": {},
   "outputs": [],
   "source": [
    "gb.read_hdf('ganimages.hdf')"
   ]
  },
  {
   "cell_type": "code",
   "execution_count": null,
   "metadata": {},
   "outputs": [],
   "source": [
    "#decimate data so we don't run out of memory:\n",
    "\n",
    "dfsmall = gb.iloc[[0::1000], [1, 7, 8]]\n",
    "\n",
    "display(gbsmall.head(n=5))"
   ]
  },
  {
   "cell_type": "code",
   "execution_count": null,
   "metadata": {},
   "outputs": [],
   "source": [
    "foo = gb.values\n",
    "print foo.shape"
   ]
  },
  {
   "cell_type": "code",
   "execution_count": null,
   "metadata": {},
   "outputs": [],
   "source": [
    "pd.set_option('display.max_columns', None) # Show All Columns in Preview\n",
    "display(irises.head(n=5))\n"
   ]
  },
  {
   "cell_type": "code",
   "execution_count": null,
   "metadata": {},
   "outputs": [],
   "source": []
  },
  {
   "cell_type": "code",
   "execution_count": null,
   "metadata": {},
   "outputs": [],
   "source": []
  },
  {
   "cell_type": "code",
   "execution_count": null,
   "metadata": {
    "scrolled": true
   },
   "outputs": [],
   "source": [
    "display(pd.crosstab(index=irises['species'], columns='count'))"
   ]
  },
  {
   "cell_type": "code",
   "execution_count": null,
   "metadata": {},
   "outputs": [],
   "source": [
    "from sklearn.decomposition import PCA\n",
    "pca = PCA(n_components=3)\n",
    "feat_cols =\n",
    "pca_result = pca.fit_transform(df[feat_cols].values)"
   ]
  },
  {
   "cell_type": "code",
   "execution_count": null,
   "metadata": {},
   "outputs": [],
   "source": []
  }
 ],
 "metadata": {
  "kernelspec": {
   "display_name": "Python 2",
   "language": "python",
   "name": "python2"
  },
  "language_info": {
   "codemirror_mode": {
    "name": "ipython",
    "version": 2
   },
   "file_extension": ".py",
   "mimetype": "text/x-python",
   "name": "python",
   "nbconvert_exporter": "python",
   "pygments_lexer": "ipython2",
   "version": "2.7.15"
  }
 },
 "nbformat": 4,
 "nbformat_minor": 2
}
